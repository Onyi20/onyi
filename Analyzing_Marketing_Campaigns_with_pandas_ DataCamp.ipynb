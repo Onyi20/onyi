{
 "cells": [
  {
   "cell_type": "markdown",
   "metadata": {},
   "source": [
    "## Data Science in Marketing Domain\n",
    "Question and problems that may need solving in a marketing domain\n",
    "1. how did the marketing campaign perform? <br>\n",
    "Marekting campaigns are anything that is done to promote a product.   \n",
    "2. How are different marketing channels performing? <br>\n",
    "should we continue investing in a certain marketing channel?\n",
    "3. A/B testing? <br>\n",
    "what exactly is it? how is it used in the real world?? Impact based on a certain change??   \n",
    "analyze a marketing campaig by channel based on A/B test results.   \n"
   ]
  },
  {
   "cell_type": "code",
   "execution_count": 1,
   "metadata": {},
   "outputs": [],
   "source": [
    "# importing necessary packages\n",
    "import numpy as np\n",
    "import pandas as pd\n",
    "import matplotlib.pyplot as plt\n",
    "%matplotlib inline"
   ]
  },
  {
   "cell_type": "markdown",
   "metadata": {},
   "source": [
    "### steps as you Import your dataset\n",
    "1. import correctly your dataset\n",
    "2. use the .head()\n",
    "3. used the .describe() <br> check for ouliers (if min or max is much larger than median.\n",
    "4. use .info() <br> check for missing values and misreported datatypes\n",
    "<br>\n",
    "check if there are any discripances and well as missing values and handle them according to your objectives."
   ]
  },
  {
   "cell_type": "code",
   "execution_count": 2,
   "metadata": {},
   "outputs": [],
   "source": [
    "# importing the \"marketing\" dataset\n",
    "markets = pd.read_csv('marketing.csv', parse_dates = ['date_subscribed', \n",
    "                                                      'date_canceled'])\n",
    "# parse the dates later"
   ]
  },
  {
   "cell_type": "code",
   "execution_count": 3,
   "metadata": {},
   "outputs": [
    {
     "data": {
      "text/html": [
       "<div>\n",
       "<style scoped>\n",
       "    .dataframe tbody tr th:only-of-type {\n",
       "        vertical-align: middle;\n",
       "    }\n",
       "\n",
       "    .dataframe tbody tr th {\n",
       "        vertical-align: top;\n",
       "    }\n",
       "\n",
       "    .dataframe thead th {\n",
       "        text-align: right;\n",
       "    }\n",
       "</style>\n",
       "<table border=\"1\" class=\"dataframe\">\n",
       "  <thead>\n",
       "    <tr style=\"text-align: right;\">\n",
       "      <th></th>\n",
       "      <th>user_id</th>\n",
       "      <th>date_served</th>\n",
       "      <th>marketing_channel</th>\n",
       "      <th>variant</th>\n",
       "      <th>converted</th>\n",
       "      <th>language_displayed</th>\n",
       "      <th>language_preferred</th>\n",
       "      <th>age_group</th>\n",
       "      <th>date_subscribed</th>\n",
       "      <th>date_canceled</th>\n",
       "      <th>subscribing_channel</th>\n",
       "      <th>is_retained</th>\n",
       "    </tr>\n",
       "  </thead>\n",
       "  <tbody>\n",
       "    <tr>\n",
       "      <th>0</th>\n",
       "      <td>a100000029</td>\n",
       "      <td>1/1/18</td>\n",
       "      <td>House Ads</td>\n",
       "      <td>personalization</td>\n",
       "      <td>True</td>\n",
       "      <td>English</td>\n",
       "      <td>English</td>\n",
       "      <td>0-18 years</td>\n",
       "      <td>2018-01-01</td>\n",
       "      <td>NaT</td>\n",
       "      <td>House Ads</td>\n",
       "      <td>True</td>\n",
       "    </tr>\n",
       "    <tr>\n",
       "      <th>1</th>\n",
       "      <td>a100000030</td>\n",
       "      <td>1/1/18</td>\n",
       "      <td>House Ads</td>\n",
       "      <td>personalization</td>\n",
       "      <td>True</td>\n",
       "      <td>English</td>\n",
       "      <td>English</td>\n",
       "      <td>19-24 years</td>\n",
       "      <td>2018-01-01</td>\n",
       "      <td>NaT</td>\n",
       "      <td>House Ads</td>\n",
       "      <td>True</td>\n",
       "    </tr>\n",
       "    <tr>\n",
       "      <th>2</th>\n",
       "      <td>a100000031</td>\n",
       "      <td>1/1/18</td>\n",
       "      <td>House Ads</td>\n",
       "      <td>personalization</td>\n",
       "      <td>True</td>\n",
       "      <td>English</td>\n",
       "      <td>English</td>\n",
       "      <td>24-30 years</td>\n",
       "      <td>2018-01-01</td>\n",
       "      <td>NaT</td>\n",
       "      <td>House Ads</td>\n",
       "      <td>True</td>\n",
       "    </tr>\n",
       "    <tr>\n",
       "      <th>3</th>\n",
       "      <td>a100000032</td>\n",
       "      <td>1/1/18</td>\n",
       "      <td>House Ads</td>\n",
       "      <td>personalization</td>\n",
       "      <td>True</td>\n",
       "      <td>English</td>\n",
       "      <td>English</td>\n",
       "      <td>30-36 years</td>\n",
       "      <td>2018-01-01</td>\n",
       "      <td>NaT</td>\n",
       "      <td>House Ads</td>\n",
       "      <td>True</td>\n",
       "    </tr>\n",
       "    <tr>\n",
       "      <th>4</th>\n",
       "      <td>a100000033</td>\n",
       "      <td>1/1/18</td>\n",
       "      <td>House Ads</td>\n",
       "      <td>personalization</td>\n",
       "      <td>True</td>\n",
       "      <td>English</td>\n",
       "      <td>English</td>\n",
       "      <td>36-45 years</td>\n",
       "      <td>2018-01-01</td>\n",
       "      <td>NaT</td>\n",
       "      <td>House Ads</td>\n",
       "      <td>True</td>\n",
       "    </tr>\n",
       "  </tbody>\n",
       "</table>\n",
       "</div>"
      ],
      "text/plain": [
       "      user_id date_served marketing_channel          variant converted  \\\n",
       "0  a100000029      1/1/18         House Ads  personalization      True   \n",
       "1  a100000030      1/1/18         House Ads  personalization      True   \n",
       "2  a100000031      1/1/18         House Ads  personalization      True   \n",
       "3  a100000032      1/1/18         House Ads  personalization      True   \n",
       "4  a100000033      1/1/18         House Ads  personalization      True   \n",
       "\n",
       "  language_displayed language_preferred    age_group date_subscribed  \\\n",
       "0            English            English   0-18 years      2018-01-01   \n",
       "1            English            English  19-24 years      2018-01-01   \n",
       "2            English            English  24-30 years      2018-01-01   \n",
       "3            English            English  30-36 years      2018-01-01   \n",
       "4            English            English  36-45 years      2018-01-01   \n",
       "\n",
       "  date_canceled subscribing_channel is_retained  \n",
       "0           NaT           House Ads        True  \n",
       "1           NaT           House Ads        True  \n",
       "2           NaT           House Ads        True  \n",
       "3           NaT           House Ads        True  \n",
       "4           NaT           House Ads        True  "
      ]
     },
     "execution_count": 3,
     "metadata": {},
     "output_type": "execute_result"
    }
   ],
   "source": [
    "markets.head(5)"
   ]
  },
  {
   "cell_type": "code",
   "execution_count": 4,
   "metadata": {},
   "outputs": [
    {
     "data": {
      "text/plain": [
       "(10037, 12)"
      ]
     },
     "execution_count": 4,
     "metadata": {},
     "output_type": "execute_result"
    }
   ],
   "source": [
    "markets.shape"
   ]
  },
  {
   "cell_type": "code",
   "execution_count": 5,
   "metadata": {},
   "outputs": [
    {
     "name": "stdout",
     "output_type": "stream",
     "text": [
      "<class 'pandas.core.frame.DataFrame'>\n",
      "RangeIndex: 10037 entries, 0 to 10036\n",
      "Data columns (total 12 columns):\n",
      " #   Column               Non-Null Count  Dtype         \n",
      "---  ------               --------------  -----         \n",
      " 0   user_id              10037 non-null  object        \n",
      " 1   date_served          10021 non-null  object        \n",
      " 2   marketing_channel    10022 non-null  object        \n",
      " 3   variant              10037 non-null  object        \n",
      " 4   converted            10022 non-null  object        \n",
      " 5   language_displayed   10037 non-null  object        \n",
      " 6   language_preferred   10037 non-null  object        \n",
      " 7   age_group            10037 non-null  object        \n",
      " 8   date_subscribed      1856 non-null   datetime64[ns]\n",
      " 9   date_canceled        577 non-null    datetime64[ns]\n",
      " 10  subscribing_channel  1856 non-null   object        \n",
      " 11  is_retained          1856 non-null   object        \n",
      "dtypes: datetime64[ns](2), object(10)\n",
      "memory usage: 941.1+ KB\n"
     ]
    }
   ],
   "source": [
    "markets.info()"
   ]
  },
  {
   "cell_type": "markdown",
   "metadata": {},
   "source": [
    "There are some columns with dates. let us check if they are stored as datetime dtatype"
   ]
  },
  {
   "cell_type": "code",
   "execution_count": 6,
   "metadata": {},
   "outputs": [
    {
     "name": "stdout",
     "output_type": "stream",
     "text": [
      "object\n",
      "datetime64[ns]\n",
      "datetime64[ns]\n"
     ]
    }
   ],
   "source": [
    "print(markets['date_served'].dtype)\n",
    "print(markets['date_subscribed'].dtype)\n",
    "print(markets['date_canceled'].dtype)"
   ]
  },
  {
   "cell_type": "code",
   "execution_count": 7,
   "metadata": {},
   "outputs": [
    {
     "name": "stdout",
     "output_type": "stream",
     "text": [
      "datetime64[ns]\n"
     ]
    }
   ],
   "source": [
    "# alternatively we can change the columns above after inporting them by\n",
    "markets['date_served'] = pd.to_datetime(markets['date_served'])\n",
    "print(markets['date_served'].dtype)"
   ]
  },
  {
   "cell_type": "markdown",
   "metadata": {},
   "source": [
    "some columns have null values so lets be sure.   \n",
    "Also we need to check for **duplicate** values"
   ]
  },
  {
   "cell_type": "code",
   "execution_count": 8,
   "metadata": {},
   "outputs": [
    {
     "data": {
      "text/plain": [
       "user_id                   0\n",
       "date_served              16\n",
       "marketing_channel        15\n",
       "variant                   0\n",
       "converted                15\n",
       "language_displayed        0\n",
       "language_preferred        0\n",
       "age_group                 0\n",
       "date_subscribed        8181\n",
       "date_canceled          9460\n",
       "subscribing_channel    8181\n",
       "is_retained            8181\n",
       "dtype: int64"
      ]
     },
     "execution_count": 8,
     "metadata": {},
     "output_type": "execute_result"
    }
   ],
   "source": [
    "# comment out and run line by line.\n",
    "\n",
    "#markets.isna().any()\n",
    "markets.isna().sum()"
   ]
  },
  {
   "cell_type": "code",
   "execution_count": 9,
   "metadata": {},
   "outputs": [
    {
     "name": "stdout",
     "output_type": "stream",
     "text": [
      "object\n",
      "bool\n"
     ]
    }
   ],
   "source": [
    "\n",
    "print(markets['converted'].dtype)\n",
    "# changing \"converted\" column to \"bool\"\n",
    "markets['converted'] = markets['converted'].astype('bool')\n",
    "print(markets['converted'].dtype)"
   ]
  },
  {
   "cell_type": "code",
   "execution_count": 10,
   "metadata": {},
   "outputs": [
    {
     "name": "stdout",
     "output_type": "stream",
     "text": [
      "       is_house_ad marketing_channel\n",
      "10032        False             Email\n",
      "10033        False             Email\n",
      "10034        False         Instagram\n",
      "10035        False             Email\n",
      "10036        False          Facebook\n"
     ]
    }
   ],
   "source": [
    "# Identifying if asset is a house ad or not\n",
    "markets['is_house_ad'] = np.where(markets['marketing_channel'] == 'House Ads', True, False)\n",
    "print(markets[[\"is_house_ad\", \"marketing_channel\"]].tail(5))\n",
    "# switch between head() and tail()"
   ]
  },
  {
   "cell_type": "code",
   "execution_count": 11,
   "metadata": {},
   "outputs": [
    {
     "name": "stdout",
     "output_type": "stream",
     "text": [
      "bool\n"
     ]
    }
   ],
   "source": [
    "print(markets['is_house_ad'].dtype)"
   ]
  },
  {
   "cell_type": "code",
   "execution_count": 12,
   "metadata": {},
   "outputs": [
    {
     "name": "stdout",
     "output_type": "stream",
     "text": [
      "['House Ads' 'Push' 'Facebook' 'Instagram' 'Email' nan]\n"
     ]
    }
   ],
   "source": [
    "print(markets['marketing_channel'].unique())"
   ]
  },
  {
   "cell_type": "markdown",
   "metadata": {},
   "source": [
    "To change the different categories in 'marketing_channel' column to numerical category, we first create a dictionary that holds the category as keys and their numerical equivalent as values and then"
   ]
  },
  {
   "cell_type": "code",
   "execution_count": 13,
   "metadata": {},
   "outputs": [],
   "source": [
    "# creating dictionary\n",
    "channel_dict = {'House Ads' : 1, 'Push' : 2, 'Facebook' : 3, \n",
    "               'Instagram' : 4, 'Email' : 5}"
   ]
  },
  {
   "cell_type": "code",
   "execution_count": 14,
   "metadata": {},
   "outputs": [],
   "source": [
    "# creating new column\n",
    "markets['channel_code'] = markets['marketing_channel'].map(channel_dict)"
   ]
  },
  {
   "cell_type": "code",
   "execution_count": 15,
   "metadata": {},
   "outputs": [
    {
     "name": "stdout",
     "output_type": "stream",
     "text": [
      "0    1.0\n",
      "1    1.0\n",
      "2    1.0\n",
      "3    1.0\n",
      "4    1.0\n",
      "Name: channel_code, dtype: float64\n"
     ]
    }
   ],
   "source": [
    "print(markets['channel_code'].head(5))"
   ]
  },
  {
   "cell_type": "markdown",
   "metadata": {},
   "source": [
    "Remember our columns that are in datetime dtype? well let's create a new column that extracts the days of the week, months of the year and even year for a paricular datetime column markets['date_served']"
   ]
  },
  {
   "cell_type": "code",
   "execution_count": 16,
   "metadata": {},
   "outputs": [],
   "source": [
    "markets['week_ser'] = markets['date_served'].dt.dayofweek"
   ]
  },
  {
   "cell_type": "code",
   "execution_count": 17,
   "metadata": {},
   "outputs": [
    {
     "name": "stdout",
     "output_type": "stream",
     "text": [
      "0    0.0\n",
      "1    0.0\n",
      "2    0.0\n",
      "3    0.0\n",
      "4    0.0\n",
      "Name: week_ser, dtype: float64\n"
     ]
    }
   ],
   "source": [
    "print(markets['week_ser'].head(5))"
   ]
  },
  {
   "cell_type": "code",
   "execution_count": 18,
   "metadata": {},
   "outputs": [
    {
     "name": "stdout",
     "output_type": "stream",
     "text": [
      "float64\n"
     ]
    }
   ],
   "source": [
    "print(markets['week_ser'].dtype)"
   ]
  },
  {
   "cell_type": "code",
   "execution_count": 19,
   "metadata": {},
   "outputs": [],
   "source": [
    " #markets['week_ser'] = markets['week_ser'].astype('int')"
   ]
  },
  {
   "cell_type": "markdown",
   "metadata": {},
   "source": [
    "### Aggregating columns with .groupby()"
   ]
  },
  {
   "cell_type": "code",
   "execution_count": 20,
   "metadata": {},
   "outputs": [
    {
     "data": {
      "text/plain": [
       "date_served\n",
       "2018-01-01    362\n",
       "2018-01-02    374\n",
       "2018-01-03    348\n",
       "2018-01-04    323\n",
       "2018-01-05    319\n",
       "2018-01-06    308\n",
       "2018-01-07    275\n",
       "2018-01-08    312\n",
       "2018-01-09    312\n",
       "2018-01-10    337\n",
       "2018-01-11    310\n",
       "2018-01-12    301\n",
       "2018-01-13    306\n",
       "2018-01-14    305\n",
       "2018-01-15    767\n",
       "2018-01-16    388\n",
       "2018-01-17    369\n",
       "2018-01-18    318\n",
       "2018-01-19    305\n",
       "2018-01-20    311\n",
       "2018-01-21    229\n",
       "2018-01-22    178\n",
       "2018-01-23    172\n",
       "2018-01-24    190\n",
       "2018-01-25    184\n",
       "2018-01-26    222\n",
       "2018-01-27    320\n",
       "2018-01-28    320\n",
       "2018-01-29    319\n",
       "2018-01-30    317\n",
       "2018-01-31    340\n",
       "Name: user_id, dtype: int64"
      ]
     },
     "execution_count": 20,
     "metadata": {},
     "output_type": "execute_result"
    }
   ],
   "source": [
    "# aggregate unique users that see ads by date\n",
    "daily_users = markets.groupby(['date_served'])['user_id'].nunique()\n",
    "\n",
    "daily_users"
   ]
  },
  {
   "cell_type": "code",
   "execution_count": 21,
   "metadata": {},
   "outputs": [
    {
     "data": {
      "text/plain": [
       "pandas.core.series.Series"
      ]
     },
     "execution_count": 21,
     "metadata": {},
     "output_type": "execute_result"
    }
   ],
   "source": [
    "type(daily_users)"
   ]
  },
  {
   "cell_type": "code",
   "execution_count": 22,
   "metadata": {},
   "outputs": [
    {
     "data": {
      "image/png": "[encoded data removed]",
      "text/plain": [
       "<Figure size 432x288 with 1 Axes>"
      ]
     },
     "metadata": {
      "needs_background": "light"
     },
     "output_type": "display_data"
    }
   ],
   "source": [
    "# plotting daily users\n",
    "daily_users.plot()\n",
    "plt.show()"
   ]
  },
  {
   "cell_type": "code",
   "execution_count": 23,
   "metadata": {},
   "outputs": [
    {
     "data": {
      "image/png": "[encoded data removed]",
      "text/plain": [
       "<Figure size 432x288 with 1 Axes>"
      ]
     },
     "metadata": {
      "needs_background": "light"
     },
     "output_type": "display_data"
    }
   ],
   "source": [
    "daily_users.plot()\n",
    "\n",
    "# annotate\n",
    "plt.title('daily number of users')\n",
    "plt.xlabel('Date')\n",
    "plt.xlabel('Number of users')\n",
    "plt.xticks(rotation = 45)\n",
    "\n",
    "plt.show()"
   ]
  },
  {
   "cell_type": "markdown",
   "metadata": {},
   "source": [
    "### Solving problems with marketing data\n",
    "1. was this campaign successful?\n",
    "<br> \n",
    "Campaign success id typically measured by conversion rate. That means of all the people that heard or saw your campaign, how many bought the product? it could mean a subscription or a purchase e.t.c\n",
    "2. customer retention\n",
    "<br>\n",
    "all users that are subscribed or that use the service regularly. Are they still there after a certain time frame? example 90 day retention rate.\n",
    "<br>\n",
    "\n",
    "3. customer segemntation <br>\n",
    "segemnting means breaking down metrics by specific charateristics.\n",
    "- conversion rate by age group <br>\n",
    "we can look at the conversion rate but based on specific characteristics\n"
   ]
  },
  {
   "cell_type": "markdown",
   "metadata": {},
   "source": [
    "Conversion rate = number of people who convert / total number of people marketed to"
   ]
  },
  {
   "cell_type": "code",
   "execution_count": 24,
   "metadata": {},
   "outputs": [
    {
     "data": {
      "text/plain": [
       "Index(['user_id', 'date_served', 'marketing_channel', 'variant', 'converted',\n",
       "       'language_displayed', 'language_preferred', 'age_group',\n",
       "       'date_subscribed', 'date_canceled', 'subscribing_channel',\n",
       "       'is_retained', 'is_house_ad', 'channel_code', 'week_ser'],\n",
       "      dtype='object')"
      ]
     },
     "execution_count": 24,
     "metadata": {},
     "output_type": "execute_result"
    }
   ],
   "source": [
    "markets.columns"
   ]
  },
  {
   "cell_type": "code",
   "execution_count": 25,
   "metadata": {},
   "outputs": [
    {
     "data": {
      "text/plain": [
       "1030"
      ]
     },
     "execution_count": 25,
     "metadata": {},
     "output_type": "execute_result"
    }
   ],
   "source": [
    "# total number of people who converted\n",
    "subscribers = markets[markets['converted'] == True]['user_id'].nunique()\n",
    "subscribers"
   ]
  },
  {
   "cell_type": "code",
   "execution_count": 26,
   "metadata": {},
   "outputs": [
    {
     "data": {
      "text/plain": [
       "7309"
      ]
     },
     "execution_count": 26,
     "metadata": {},
     "output_type": "execute_result"
    }
   ],
   "source": [
    "# total number of people marketed to\n",
    "total = markets['user_id'].nunique()\n",
    "total"
   ]
  },
  {
   "cell_type": "code",
   "execution_count": 27,
   "metadata": {},
   "outputs": [
    {
     "name": "stdout",
     "output_type": "stream",
     "text": [
      "0.14092215077301956\n",
      "14.09 %\n"
     ]
    }
   ],
   "source": [
    "# calculation conversion rate\n",
    "conv_rate = subscribers/total\n",
    "print(conv_rate)\n",
    "# convert to percentage\n",
    "conv_rate_percent = round(conv_rate * 100, 2)\n",
    "print(str(conv_rate_percent) + ' %')"
   ]
  },
  {
   "cell_type": "markdown",
   "metadata": {},
   "source": [
    "retention rate = number of people who remain subscribed / total number who converted <br>\n",
    "one month retention would be the number who remain subscribed after a month over the total number"
   ]
  },
  {
   "cell_type": "code",
   "execution_count": 28,
   "metadata": {},
   "outputs": [
    {
     "data": {
      "text/plain": [
       "678"
      ]
     },
     "execution_count": 28,
     "metadata": {},
     "output_type": "execute_result"
    }
   ],
   "source": [
    "# customers that remained subscribed over a month\n",
    "# column 'is_retained has already been provided'\n",
    "retained = markets[markets['is_retained'] == True]['user_id'].nunique()\n",
    "retained"
   ]
  },
  {
   "cell_type": "code",
   "execution_count": 29,
   "metadata": {},
   "outputs": [
    {
     "name": "stdout",
     "output_type": "stream",
     "text": [
      "65.83 %\n"
     ]
    }
   ],
   "source": [
    "# the total number of subscribers has already been calculated above\n",
    "retention = round((retained/subscribers) * 100, 2)\n",
    "print(str(retention) + ' %')"
   ]
  },
  {
   "cell_type": "markdown",
   "metadata": {},
   "source": [
    "for a retention rate for \"house ads\", subset only house ads and then calculate the retention rate as you normally woukd"
   ]
  },
  {
   "cell_type": "code",
   "execution_count": 30,
   "metadata": {},
   "outputs": [
    {
     "data": {
      "text/html": [
       "<div>\n",
       "<style scoped>\n",
       "    .dataframe tbody tr th:only-of-type {\n",
       "        vertical-align: middle;\n",
       "    }\n",
       "\n",
       "    .dataframe tbody tr th {\n",
       "        vertical-align: top;\n",
       "    }\n",
       "\n",
       "    .dataframe thead th {\n",
       "        text-align: right;\n",
       "    }\n",
       "</style>\n",
       "<table border=\"1\" class=\"dataframe\">\n",
       "  <thead>\n",
       "    <tr style=\"text-align: right;\">\n",
       "      <th></th>\n",
       "      <th>user_id</th>\n",
       "      <th>date_served</th>\n",
       "      <th>marketing_channel</th>\n",
       "      <th>variant</th>\n",
       "      <th>converted</th>\n",
       "      <th>language_displayed</th>\n",
       "      <th>language_preferred</th>\n",
       "      <th>age_group</th>\n",
       "      <th>date_subscribed</th>\n",
       "      <th>date_canceled</th>\n",
       "      <th>subscribing_channel</th>\n",
       "      <th>is_retained</th>\n",
       "      <th>is_house_ad</th>\n",
       "      <th>channel_code</th>\n",
       "      <th>week_ser</th>\n",
       "    </tr>\n",
       "  </thead>\n",
       "  <tbody>\n",
       "    <tr>\n",
       "      <th>0</th>\n",
       "      <td>a100000029</td>\n",
       "      <td>2018-01-01</td>\n",
       "      <td>House Ads</td>\n",
       "      <td>personalization</td>\n",
       "      <td>True</td>\n",
       "      <td>English</td>\n",
       "      <td>English</td>\n",
       "      <td>0-18 years</td>\n",
       "      <td>2018-01-01</td>\n",
       "      <td>NaT</td>\n",
       "      <td>House Ads</td>\n",
       "      <td>True</td>\n",
       "      <td>True</td>\n",
       "      <td>1.0</td>\n",
       "      <td>0.0</td>\n",
       "    </tr>\n",
       "    <tr>\n",
       "      <th>1</th>\n",
       "      <td>a100000030</td>\n",
       "      <td>2018-01-01</td>\n",
       "      <td>House Ads</td>\n",
       "      <td>personalization</td>\n",
       "      <td>True</td>\n",
       "      <td>English</td>\n",
       "      <td>English</td>\n",
       "      <td>19-24 years</td>\n",
       "      <td>2018-01-01</td>\n",
       "      <td>NaT</td>\n",
       "      <td>House Ads</td>\n",
       "      <td>True</td>\n",
       "      <td>True</td>\n",
       "      <td>1.0</td>\n",
       "      <td>0.0</td>\n",
       "    </tr>\n",
       "    <tr>\n",
       "      <th>2</th>\n",
       "      <td>a100000031</td>\n",
       "      <td>2018-01-01</td>\n",
       "      <td>House Ads</td>\n",
       "      <td>personalization</td>\n",
       "      <td>True</td>\n",
       "      <td>English</td>\n",
       "      <td>English</td>\n",
       "      <td>24-30 years</td>\n",
       "      <td>2018-01-01</td>\n",
       "      <td>NaT</td>\n",
       "      <td>House Ads</td>\n",
       "      <td>True</td>\n",
       "      <td>True</td>\n",
       "      <td>1.0</td>\n",
       "      <td>0.0</td>\n",
       "    </tr>\n",
       "  </tbody>\n",
       "</table>\n",
       "</div>"
      ],
      "text/plain": [
       "      user_id date_served marketing_channel          variant  converted  \\\n",
       "0  a100000029  2018-01-01         House Ads  personalization       True   \n",
       "1  a100000030  2018-01-01         House Ads  personalization       True   \n",
       "2  a100000031  2018-01-01         House Ads  personalization       True   \n",
       "\n",
       "  language_displayed language_preferred    age_group date_subscribed  \\\n",
       "0            English            English   0-18 years      2018-01-01   \n",
       "1            English            English  19-24 years      2018-01-01   \n",
       "2            English            English  24-30 years      2018-01-01   \n",
       "\n",
       "  date_canceled subscribing_channel is_retained  is_house_ad  channel_code  \\\n",
       "0           NaT           House Ads        True         True           1.0   \n",
       "1           NaT           House Ads        True         True           1.0   \n",
       "2           NaT           House Ads        True         True           1.0   \n",
       "\n",
       "   week_ser  \n",
       "0       0.0  \n",
       "1       0.0  \n",
       "2       0.0  "
      ]
     },
     "execution_count": 30,
     "metadata": {},
     "output_type": "execute_result"
    }
   ],
   "source": [
    "house_ads_subset = markets[markets['subscribing_channel'] == 'House Ads']\n",
    "house_ads_subset.head(3)"
   ]
  },
  {
   "cell_type": "markdown",
   "metadata": {},
   "source": [
    "use the above 'house ad subset' to calculate the retention rate and conversio rate for only users exposed to house ads <br>\n",
    "however, for this, all subscribing channels have to have their rates checked and then all retention rates compared to see the best and the same for the conversion rate. <br>\n",
    "but this is tedious so we use the .groupby() method to make it a lot easier\n"
   ]
  },
  {
   "cell_type": "code",
   "execution_count": 31,
   "metadata": {},
   "outputs": [
    {
     "data": {
      "text/plain": [
       "subscribing_channel\n",
       "Email        141\n",
       "Facebook     152\n",
       "House Ads    173\n",
       "Instagram    158\n",
       "Push          54\n",
       "Name: user_id, dtype: int64"
      ]
     },
     "execution_count": 31,
     "metadata": {},
     "output_type": "execute_result"
    }
   ],
   "source": [
    "retained_grp = markets[markets['is_retained'] == True].groupby(['subscribing_channel']\n",
    "                                                              )['user_id'].nunique()\n",
    "retained_grp"
   ]
  },
  {
   "cell_type": "code",
   "execution_count": 32,
   "metadata": {},
   "outputs": [
    {
     "data": {
      "text/plain": [
       "subscribing_channel\n",
       "Email        161\n",
       "Facebook     221\n",
       "House Ads    298\n",
       "Instagram    232\n",
       "Push          77\n",
       "Name: user_id, dtype: int64"
      ]
     },
     "execution_count": 32,
     "metadata": {},
     "output_type": "execute_result"
    }
   ],
   "source": [
    "subscribers_grp = markets[markets['converted'] == True].groupby(['subscribing_channel']\n",
    "                                                               )['user_id'].nunique()\n",
    "subscribers_grp"
   ]
  },
  {
   "cell_type": "code",
   "execution_count": 33,
   "metadata": {},
   "outputs": [
    {
     "data": {
      "text/plain": [
       "subscribing_channel\n",
       "Email        87.577640\n",
       "Facebook     68.778281\n",
       "House Ads    58.053691\n",
       "Instagram    68.103448\n",
       "Push         70.129870\n",
       "Name: user_id, dtype: float64"
      ]
     },
     "execution_count": 33,
     "metadata": {},
     "output_type": "execute_result"
    }
   ],
   "source": [
    "channel_retention_rate = (retained_grp/subscribers_grp) * 100\n",
    "channel_retention_rate"
   ]
  },
  {
   "cell_type": "code",
   "execution_count": 34,
   "metadata": {},
   "outputs": [
    {
     "data": {
      "image/png": "[encoded data removed]",
      "text/plain": [
       "<Figure size 432x288 with 1 Axes>"
      ]
     },
     "metadata": {
      "needs_background": "light"
     },
     "output_type": "display_data"
    }
   ],
   "source": [
    "# creating a bar chart on channel retention\n",
    "channel_retention_rate.plot(kind = 'bar')\n",
    "plt.show()"
   ]
  },
  {
   "cell_type": "code",
   "execution_count": 35,
   "metadata": {},
   "outputs": [
    {
     "data": {
      "image/png": "[encoded data removed]",
      "text/plain": [
       "<Figure size 432x288 with 1 Axes>"
      ]
     },
     "metadata": {
      "needs_background": "light"
     },
     "output_type": "display_data"
    }
   ],
   "source": [
    "channel_retention_rate.plot(kind = 'bar')\n",
    "\n",
    "# annotation\n",
    "plt.title('Retention per subcription', size = 16)\n",
    "plt.xlabel('subscribing channel', size = 14)\n",
    "plt.ylabel('retention rate', size = 14)\n",
    "\n",
    "plt.show()"
   ]
  },
  {
   "cell_type": "markdown",
   "metadata": {},
   "source": [
    "`"
   ]
  },
  {
   "cell_type": "markdown",
   "metadata": {},
   "source": [
    "grouping by language displayes"
   ]
  },
  {
   "cell_type": "code",
   "execution_count": 37,
   "metadata": {},
   "outputs": [
    {
     "data": {
      "text/plain": [
       "language_displayed\n",
       "Arabic       24\n",
       "English    7169\n",
       "German       74\n",
       "Spanish     120\n",
       "Name: user_id, dtype: int64"
      ]
     },
     "execution_count": 37,
     "metadata": {},
     "output_type": "execute_result"
    }
   ],
   "source": [
    "lan_grp = markets.groupby(['language_displayed'])['user_id'].nunique()\n",
    "lan_grp"
   ]
  },
  {
   "cell_type": "code",
   "execution_count": 38,
   "metadata": {},
   "outputs": [
    {
     "data": {
      "image/png": "[encoded data removed]",
      "text/plain": [
       "<Figure size 432x288 with 1 Axes>"
      ]
     },
     "metadata": {
      "needs_background": "light"
     },
     "output_type": "display_data"
    }
   ],
   "source": [
    "lan_grp.plot(kind = 'bar')\n",
    "plt.title('total number of users per language')\n",
    "plt.xlabel('languages')\n",
    "plt.ylabel('users')\n",
    "plt.show()"
   ]
  },
  {
   "cell_type": "code",
   "execution_count": null,
   "metadata": {},
   "outputs": [],
   "source": []
  },
  {
   "cell_type": "markdown",
   "metadata": {},
   "source": [
    "Calculating daily retention rate"
   ]
  },
  {
   "cell_type": "code",
   "execution_count": 39,
   "metadata": {},
   "outputs": [
    {
     "name": "stdout",
     "output_type": "stream",
     "text": [
      "(31,)\n"
     ]
    },
    {
     "data": {
      "text/plain": [
       "date_subscribed\n",
       "2018-01-01    36\n",
       "2018-01-02    37\n",
       "2018-01-03    37\n",
       "Name: user_id, dtype: int64"
      ]
     },
     "execution_count": 39,
     "metadata": {},
     "output_type": "execute_result"
    }
   ],
   "source": [
    "total_date = markets.groupby(['date_subscribed'])['user_id'].nunique()\n",
    "print(total_date.shape)\n",
    "total_date.head(3)"
   ]
  },
  {
   "cell_type": "code",
   "execution_count": 40,
   "metadata": {},
   "outputs": [
    {
     "name": "stdout",
     "output_type": "stream",
     "text": [
      "(31,)\n"
     ]
    },
    {
     "data": {
      "text/plain": [
       "date_subscribed\n",
       "2018-01-01    28\n",
       "2018-01-02    26\n",
       "2018-01-03    27\n",
       "Name: user_id, dtype: int64"
      ]
     },
     "execution_count": 40,
     "metadata": {},
     "output_type": "execute_result"
    }
   ],
   "source": [
    "# subsetting the users that are retained (is_retained == true)\n",
    "retained_date = markets[markets['is_retained'] == True].groupby(['date_subscribed'])['user_id'].nunique()\n",
    "print(retained_date.shape)\n",
    "retained_date.head(3)"
   ]
  },
  {
   "cell_type": "code",
   "execution_count": 41,
   "metadata": {},
   "outputs": [
    {
     "data": {
      "text/plain": [
       "date_subscribed\n",
       "2018-01-01    0.777778\n",
       "2018-01-02    0.702703\n",
       "2018-01-03    0.729730\n",
       "Name: user_id, dtype: float64"
      ]
     },
     "execution_count": 41,
     "metadata": {},
     "output_type": "execute_result"
    }
   ],
   "source": [
    "daily_retention_rate = retained_date/total_date\n",
    "daily_retention_rate.head(3)"
   ]
  },
  {
   "cell_type": "code",
   "execution_count": 42,
   "metadata": {},
   "outputs": [
    {
     "data": {
      "text/plain": [
       "Index(['user_id', 'date_served', 'marketing_channel', 'variant', 'converted',\n",
       "       'language_displayed', 'language_preferred', 'age_group',\n",
       "       'date_subscribed', 'date_canceled', 'subscribing_channel',\n",
       "       'is_retained', 'is_house_ad', 'channel_code', 'week_ser'],\n",
       "      dtype='object')"
      ]
     },
     "execution_count": 42,
     "metadata": {},
     "output_type": "execute_result"
    }
   ],
   "source": [
    "markets.columns"
   ]
  },
  {
   "cell_type": "markdown",
   "metadata": {},
   "source": [
    "Simple cohort analysis to evaluate the quality of subscribers per day \n",
    "<br>\n",
    "if the values increase over time then it could mean that the company is getting better at retaining customers that are intrested in the products or that the onboarding process in improving (as soon as users subscribe)"
   ]
  },
  {
   "cell_type": "code",
   "execution_count": 43,
   "metadata": {},
   "outputs": [
    {
     "data": {
      "text/html": [
       "<div>\n",
       "<style scoped>\n",
       "    .dataframe tbody tr th:only-of-type {\n",
       "        vertical-align: middle;\n",
       "    }\n",
       "\n",
       "    .dataframe tbody tr th {\n",
       "        vertical-align: top;\n",
       "    }\n",
       "\n",
       "    .dataframe thead th {\n",
       "        text-align: right;\n",
       "    }\n",
       "</style>\n",
       "<table border=\"1\" class=\"dataframe\">\n",
       "  <thead>\n",
       "    <tr style=\"text-align: right;\">\n",
       "      <th></th>\n",
       "      <th>date_subscribed</th>\n",
       "      <th>user_id</th>\n",
       "    </tr>\n",
       "  </thead>\n",
       "  <tbody>\n",
       "    <tr>\n",
       "      <th>0</th>\n",
       "      <td>2018-01-01</td>\n",
       "      <td>0.777778</td>\n",
       "    </tr>\n",
       "    <tr>\n",
       "      <th>1</th>\n",
       "      <td>2018-01-02</td>\n",
       "      <td>0.702703</td>\n",
       "    </tr>\n",
       "    <tr>\n",
       "      <th>2</th>\n",
       "      <td>2018-01-03</td>\n",
       "      <td>0.729730</td>\n",
       "    </tr>\n",
       "  </tbody>\n",
       "</table>\n",
       "</div>"
      ],
      "text/plain": [
       "  date_subscribed   user_id\n",
       "0      2018-01-01  0.777778\n",
       "1      2018-01-02  0.702703\n",
       "2      2018-01-03  0.729730"
      ]
     },
     "execution_count": 43,
     "metadata": {},
     "output_type": "execute_result"
    }
   ],
   "source": [
    "# converting datly_retention_rate to a dataframe and reseting the index\n",
    "daily_ren_rate = pd.DataFrame(daily_retention_rate).reset_index()\n",
    "daily_ren_rate.head(3)"
   ]
  },
  {
   "cell_type": "code",
   "execution_count": 44,
   "metadata": {},
   "outputs": [
    {
     "data": {
      "text/html": [
       "<div>\n",
       "<style scoped>\n",
       "    .dataframe tbody tr th:only-of-type {\n",
       "        vertical-align: middle;\n",
       "    }\n",
       "\n",
       "    .dataframe tbody tr th {\n",
       "        vertical-align: top;\n",
       "    }\n",
       "\n",
       "    .dataframe thead th {\n",
       "        text-align: right;\n",
       "    }\n",
       "</style>\n",
       "<table border=\"1\" class=\"dataframe\">\n",
       "  <thead>\n",
       "    <tr style=\"text-align: right;\">\n",
       "      <th></th>\n",
       "      <th>date_subscribed</th>\n",
       "      <th>retention_rate</th>\n",
       "    </tr>\n",
       "  </thead>\n",
       "  <tbody>\n",
       "    <tr>\n",
       "      <th>0</th>\n",
       "      <td>2018-01-01</td>\n",
       "      <td>0.777778</td>\n",
       "    </tr>\n",
       "    <tr>\n",
       "      <th>1</th>\n",
       "      <td>2018-01-02</td>\n",
       "      <td>0.702703</td>\n",
       "    </tr>\n",
       "    <tr>\n",
       "      <th>2</th>\n",
       "      <td>2018-01-03</td>\n",
       "      <td>0.729730</td>\n",
       "    </tr>\n",
       "  </tbody>\n",
       "</table>\n",
       "</div>"
      ],
      "text/plain": [
       "  date_subscribed  retention_rate\n",
       "0      2018-01-01        0.777778\n",
       "1      2018-01-02        0.702703\n",
       "2      2018-01-03        0.729730"
      ]
     },
     "execution_count": 44,
     "metadata": {},
     "output_type": "execute_result"
    }
   ],
   "source": [
    "# changing the column names\n",
    "daily_ren_rate.columns = ['date_subscribed', 'retention_rate']\n",
    "daily_ren_rate.head(3)"
   ]
  },
  {
   "cell_type": "code",
   "execution_count": 45,
   "metadata": {},
   "outputs": [
    {
     "data": {
      "image/png": "[encoded data removed]",
      "text/plain": [
       "<Figure size 432x288 with 1 Axes>"
      ]
     },
     "metadata": {
      "needs_background": "light"
     },
     "output_type": "display_data"
    }
   ],
   "source": [
    "# plotting the graph of the daily_ren_rate\n",
    "\n",
    "daily_ren_rate.plot('date_subscribed', 'retention_rate')\n",
    "\n",
    "#annotations\n",
    "plt.title('Daily subscriber quality\\n', size = 16) \n",
    "# the \\n makes it so that there is a little gap between the title and the chart\n",
    "plt.xlabel('Date', size = 14)\n",
    "plt.ylabel(\"1-month retention rate\", size = 14)\n",
    "# make y axis begin at 0\n",
    "plt.ylim(0)\n",
    "\n",
    "plt.show()"
   ]
  },
  {
   "cell_type": "code",
   "execution_count": 46,
   "metadata": {},
   "outputs": [
    {
     "data": {
      "image/png": "[encoded data removed]",
      "text/plain": [
       "<Figure size 432x288 with 1 Axes>"
      ]
     },
     "metadata": {
      "needs_background": "light"
     },
     "output_type": "display_data"
    }
   ],
   "source": [
    "# plotting the graph of the daily_ren_rate\n",
    "\n",
    "daily_ren_rate.plot('date_subscribed', 'retention_rate')\n",
    "\n",
    "#annotations\n",
    "plt.title('Daily subscriber quality\\n', size = 16) \n",
    "# the \\n makes it so that there is a little gap between the title and the chart\n",
    "plt.xlabel('Date', size = 14)\n",
    "plt.ylabel(\"1-month retention rate\", size = 14)\n",
    "\n",
    "plt.show()\n",
    "# without make the chart start from zero in the y axis"
   ]
  },
  {
   "cell_type": "code",
   "execution_count": null,
   "metadata": {},
   "outputs": [],
   "source": []
  },
  {
   "cell_type": "code",
   "execution_count": null,
   "metadata": {},
   "outputs": [],
   "source": []
  },
  {
   "cell_type": "code",
   "execution_count": null,
   "metadata": {},
   "outputs": [],
   "source": []
  },
  {
   "cell_type": "code",
   "execution_count": null,
   "metadata": {},
   "outputs": [],
   "source": []
  }
 ],
 "metadata": {
  "kernelspec": {
   "display_name": "Python 3",
   "language": "python",
   "name": "python3"
  },
  "language_info": {
   "codemirror_mode": {
    "name": "ipython",
    "version": 3
   },
   "file_extension": ".py",
   "mimetype": "text/x-python",
   "name": "python",
   "nbconvert_exporter": "python",
   "pygments_lexer": "ipython3",
   "version": "3.8.5"
  }
 },
 "nbformat": 4,
 "nbformat_minor": 4
}
